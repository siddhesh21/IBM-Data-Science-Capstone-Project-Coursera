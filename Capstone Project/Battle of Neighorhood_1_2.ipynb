{
    "nbformat_minor": 1, 
    "cells": [
        {
            "source": "# Problem Description.", 
            "cell_type": "markdown", 
            "metadata": {
                "collapsed": true
            }
        }, 
        {
            "source": "## Business Start-Up ", 
            "cell_type": "markdown", 
            "metadata": {}
        }, 
        {
            "source": "### Problem brought by Client\n- Which City and Locality is best to open a Casino/Shopping centre in USA?\n\n### Brief information \nMy client is a successful Entrepreneur in Asia and now he wants to expand his Business in other countries. He wants to open a Casiono/Shopping Mall in USA but not sure in which City and Locality he should open the Mall and be Succeessful.\n\n### Analyzing  the Problem\nAccording to the need of client first we have to find the City and then the Locality in that city for Business. To solve this particular problem and to gather data we will set few Benchmarks for the City and the locality in which opening a Casino/Shopping Mall would be Successful.\n\n#### For discovering the appropriate City following criteria must achieve\n1. Nightlife\n2. Services\n3. Transport\n4. Residence\n5. Universities\n6. Food\n7. Entertainment\n8. Travel\n9. Outdoor Activities\n\n#### Criteria for the Locality in City\n1. Per Capita Income\n2. Population\n3. Population Density\n4. Venues\n\n### Requirements of Data.\nDescription: Data that will be required for solving the problem -\n\n- List of all the cities in United States with population density and coordinates\n- List of all the cities in United States with Per Capita Income\n- List of all venues in each city\n- List of all venues in each locality in the selected city\n\n### Source of Acquiring Data\n\n* Wikipedia   \nhttps://en.wikipedia.org/wiki/List_of_United_States_cities_by_population  \nhttps://en.wikipedia.org/wiki/List_of_United_States_counties_by_per_capita_income   \n\n\n* Foursquare API \nTo extract various categorical data regarding location which are the providers.\n\nFor selecting the best appropriate Venues in CIty and in Each locality in selected city.\n\n", 
            "cell_type": "markdown", 
            "metadata": {}
        }, 
        {
            "source": "# Using data for Solving problem.\n\nBy Using the Wikipedia data we will first analyse the data and then focus on certain benchmarks to discover the best City in USA to open a Casino/Shopping mall. Then by leveraging the Foursquare data we will compare and try to find the best locality. Based on Scores we will try to determine the Locality in simillar way.\n\n1. By the above acquired data set you will be able to categorize various fields where the popularity of items will get. \n\n2. Then by using different attributes on the based on your location, we will find different spots that are highly suitable to open a business venture.  \n\n3. The data will be breakdown and simplified and cleaned on to those which might help in acquiring a location and feature the behavior of residents.  \n\n4. How well the response on our business is been recieved by residents and how they communicated based on these factors we can use data to set the location where it is highly feasible.  \n\n5. Now, we use the ForSquare API to check all the responses of different outlets and what they prefer to be in one spot.  \n\n6. So that our business location would be a \n**ONE STOP SHOP** \nfor our Consumers and people visiting on daily basis.  \n\n7. The attractiveness of place should be keep in mind where data of Foursquare API helps in bringing the best visisted consumers to the place by viewing thier interests.\n", 
            "cell_type": "markdown", 
            "metadata": {}
        }, 
        {
            "source": "", 
            "cell_type": "code", 
            "metadata": {}, 
            "outputs": [], 
            "execution_count": null
        }
    ], 
    "metadata": {
        "kernelspec": {
            "display_name": "Python 3.5", 
            "name": "python3", 
            "language": "python"
        }, 
        "language_info": {
            "mimetype": "text/x-python", 
            "nbconvert_exporter": "python", 
            "version": "3.5.5", 
            "name": "python", 
            "file_extension": ".py", 
            "pygments_lexer": "ipython3", 
            "codemirror_mode": {
                "version": 3, 
                "name": "ipython"
            }
        }
    }, 
    "nbformat": 4
}